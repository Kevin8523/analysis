{
 "cells": [
  {
   "cell_type": "code",
   "execution_count": null,
   "metadata": {},
   "outputs": [],
   "source": [
    "# Jupyter Notebook Shortcut Tips\n",
    "# 1. # for commenting Code ==> ctrl / to comment multiple lines\n",
    "# 2. Esc will take you to command mode\n",
    "#     a. A ==> insert a new cell above the current cell,\n",
    "#     b. B ==> insert a new cell below the current cell\n",
    "#     c. C ==> Copy\n",
    "#     d. V ==> Paste\n",
    "#     e. M ==> change current cell to markdown\n",
    "#     f. Y ==> To change back to code\n",
    "#     g. D + D ==> To delete the current cell\n",
    "#     h. Enter will take you back to edit mode\n",
    "# 3. 00 ==> Cancel any code thats running\n",
    "# 4. Shift + Enter ==> Run Cell and proceed to next Cell\n",
    "# 5. Ctrl + Enter ==> Run Selected Cell and stay\n",
    "# 6. Help ==> Keyboard Shorcuts\n",
    "# 7. Function help ==> tab or Shift tab\n",
    "#     a. Shift tab ==> tab or + ==> to get full documentation\n",
    "# 8. Escape Character ==> \\\n",
    "# 9. Command + ] For Indent ; Command + [ For Dedent\n",
    "# 10. ? For Function Arguments\n",
    "\n",
    "# Markdown Tips:( http://datascience.ibm.com/blog/markdown-for-jupyter-notebooks-cheatsheet/ )"
   ]
  },
  {
   "cell_type": "code",
   "execution_count": 1,
   "metadata": {},
   "outputs": [],
   "source": [
    "import pandas as pd\n",
    "import numpy as np"
   ]
  },
  {
   "cell_type": "code",
   "execution_count": null,
   "metadata": {},
   "outputs": [],
   "source": [
    "# Note: This code was developed using Anaconda 4.5.3 with Python 3.6.5"
   ]
  },
  {
   "cell_type": "code",
   "execution_count": null,
   "metadata": {},
   "outputs": [],
   "source": []
  }
 ],
 "metadata": {
  "kernelspec": {
   "display_name": "Python [conda env:anaconda]",
   "language": "python",
   "name": "conda-env-anaconda-py"
  },
  "language_info": {
   "codemirror_mode": {
    "name": "ipython",
    "version": 3
   },
   "file_extension": ".py",
   "mimetype": "text/x-python",
   "name": "python",
   "nbconvert_exporter": "python",
   "pygments_lexer": "ipython3",
   "version": "3.6.5"
  }
 },
 "nbformat": 4,
 "nbformat_minor": 2
}
