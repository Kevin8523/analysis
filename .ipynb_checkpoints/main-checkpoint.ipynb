{
 "cells": [
  {
   "cell_type": "markdown",
   "metadata": {},
   "source": [
    "# <a id='0'>Objective:</a>\n",
    "- Clean up the dataset and explore \n",
    "- Start high and drill down: \n",
    "    + Qty by Category, Item, Year, Month, Day, time?\n",
    "    + Gross Sales (Frequency) by Category, Item, Year, Month, Day, time?\n",
    "- Create visual to break out by these features"
   ]
  },
  {
   "cell_type": "code",
   "execution_count": 1,
   "metadata": {},
   "outputs": [],
   "source": [
    "# Note: This code was developed using Anaconda 4.5.3 with Python 3.6.5"
   ]
  },
  {
   "cell_type": "markdown",
   "metadata": {},
   "source": [
    "# <a id='0'>O.S.E.M.N </a> \n",
    "- <a href='#1'>1. Obtain Data: Gather Data & Setup up environment</a>\n",
    "- <a href='#2'>2. Scrub Data: Data Prep</a>\n",
    "- <a href='#3'> 3. Explore data: EDA / Feature Engineering</a>\n",
    "- <a href='#4'> 4. Model Data: Model Data for Prediction & Cross Validate</a>\n",
    "- <a href='#4'> 5. iNterpret Data: Give Insights</a>"
   ]
  },
  {
   "cell_type": "markdown",
   "metadata": {},
   "source": [
    "## <a id='1'>1. Obtain Data</a>"
   ]
  },
  {
   "cell_type": "markdown",
   "metadata": {},
   "source": [
    "#### Import libraries & load dataset"
   ]
  },
  {
   "cell_type": "code",
   "execution_count": 2,
   "metadata": {},
   "outputs": [],
   "source": [
    "import pandas as pd\n",
    "import numpy as np\n",
    "import os, sys"
   ]
  },
  {
   "cell_type": "code",
   "execution_count": 3,
   "metadata": {},
   "outputs": [],
   "source": [
    "# Creating variables for the path of file\n",
    "path = '/users/kevin8523/desktop/github/coffee_consulting/data/'\n",
    "filename = 'All.txt'\n",
    "filepath = f'{path}{filename}'"
   ]
  },
  {
   "cell_type": "code",
   "execution_count": 95,
   "metadata": {},
   "outputs": [],
   "source": [
    "# Read in the data **NOTE: Need to set data types\n",
    "df = pd.read_csv(filepath, sep='\\t', header=0, \n",
    "                 dtype={'Gross Sales': np.float64, \n",
    "                        'Discounts': np.float64,\n",
    "                        'Net Sales': np.float64,\n",
    "                        'Tax': np.float64,},\n",
    "                 encoding='latin-1', low_memory = False)"
   ]
  },
  {
   "cell_type": "markdown",
   "metadata": {},
   "source": [
    "#### Quick Exploration of the data"
   ]
  },
  {
   "cell_type": "code",
   "execution_count": 111,
   "metadata": {},
   "outputs": [
    {
     "name": "stdout",
     "output_type": "stream",
     "text": [
      "\u001b[1mDATASET (ROWS, COLUMNS)\u001b[0m\n",
      "df (447916, 28)\n"
     ]
    }
   ],
   "source": [
    "# Shape of the data\n",
    "print('\\033[1m'+'DATASET','(ROWS, COLUMNS)'+'\\033[0m')\n",
    "print('df',df.shape)"
   ]
  },
  {
   "cell_type": "code",
   "execution_count": 102,
   "metadata": {},
   "outputs": [
    {
     "data": {
      "text/html": [
       "<div>\n",
       "<style scoped>\n",
       "    .dataframe tbody tr th:only-of-type {\n",
       "        vertical-align: middle;\n",
       "    }\n",
       "\n",
       "    .dataframe tbody tr th {\n",
       "        vertical-align: top;\n",
       "    }\n",
       "\n",
       "    .dataframe thead th {\n",
       "        text-align: right;\n",
       "    }\n",
       "</style>\n",
       "<table border=\"1\" class=\"dataframe\">\n",
       "  <thead>\n",
       "    <tr style=\"text-align: right;\">\n",
       "      <th></th>\n",
       "      <th>Date</th>\n",
       "      <th>Time</th>\n",
       "      <th>Time Zone</th>\n",
       "      <th>Category</th>\n",
       "      <th>Item</th>\n",
       "      <th>Qty</th>\n",
       "      <th>Price Point Name</th>\n",
       "      <th>SKU</th>\n",
       "      <th>Modifiers Applied</th>\n",
       "      <th>Gross Sales</th>\n",
       "      <th>...</th>\n",
       "      <th>Event Type</th>\n",
       "      <th>Location</th>\n",
       "      <th>Dining Option</th>\n",
       "      <th>Customer ID</th>\n",
       "      <th>Customer Name</th>\n",
       "      <th>Customer Reference ID</th>\n",
       "      <th>Year</th>\n",
       "      <th>Month</th>\n",
       "      <th>Week</th>\n",
       "      <th>Day</th>\n",
       "    </tr>\n",
       "  </thead>\n",
       "  <tbody>\n",
       "    <tr>\n",
       "      <th>0</th>\n",
       "      <td>2014-01-02</td>\n",
       "      <td>07:34:21</td>\n",
       "      <td>Central Time (US &amp; Canada)</td>\n",
       "      <td>1 Hot Drinks</td>\n",
       "      <td>Brew Coffee</td>\n",
       "      <td>1</td>\n",
       "      <td>16 oz</td>\n",
       "      <td>NaN</td>\n",
       "      <td>Dark, To Go</td>\n",
       "      <td>2.39</td>\n",
       "      <td>...</td>\n",
       "      <td>Payment</td>\n",
       "      <td>Mazama Coffee Co</td>\n",
       "      <td>NaN</td>\n",
       "      <td>NaN</td>\n",
       "      <td>NaN</td>\n",
       "      <td>NaN</td>\n",
       "      <td>2014</td>\n",
       "      <td>1</td>\n",
       "      <td>1</td>\n",
       "      <td>Thursday</td>\n",
       "    </tr>\n",
       "    <tr>\n",
       "      <th>1</th>\n",
       "      <td>2014-01-02</td>\n",
       "      <td>07:49:27</td>\n",
       "      <td>Central Time (US &amp; Canada)</td>\n",
       "      <td>3 Bakery</td>\n",
       "      <td>Muffin Regular</td>\n",
       "      <td>1</td>\n",
       "      <td>Morning Glory</td>\n",
       "      <td>NaN</td>\n",
       "      <td>NaN</td>\n",
       "      <td>2.29</td>\n",
       "      <td>...</td>\n",
       "      <td>Payment</td>\n",
       "      <td>Mazama Coffee Co</td>\n",
       "      <td>NaN</td>\n",
       "      <td>NaN</td>\n",
       "      <td>NaN</td>\n",
       "      <td>NaN</td>\n",
       "      <td>2014</td>\n",
       "      <td>1</td>\n",
       "      <td>1</td>\n",
       "      <td>Thursday</td>\n",
       "    </tr>\n",
       "  </tbody>\n",
       "</table>\n",
       "<p>2 rows × 28 columns</p>\n",
       "</div>"
      ],
      "text/plain": [
       "        Date      Time                   Time Zone      Category  \\\n",
       "0 2014-01-02  07:34:21  Central Time (US & Canada)  1 Hot Drinks   \n",
       "1 2014-01-02  07:49:27  Central Time (US & Canada)      3 Bakery   \n",
       "\n",
       "             Item  Qty Price Point Name  SKU Modifiers Applied  Gross Sales  \\\n",
       "0     Brew Coffee    1            16 oz  NaN       Dark, To Go         2.39   \n",
       "1  Muffin Regular    1    Morning Glory  NaN               NaN         2.29   \n",
       "\n",
       "     ...     Event Type          Location  Dining Option Customer ID  \\\n",
       "0    ...        Payment  Mazama Coffee Co            NaN         NaN   \n",
       "1    ...        Payment  Mazama Coffee Co            NaN         NaN   \n",
       "\n",
       "  Customer Name Customer Reference ID  Year Month Week       Day  \n",
       "0           NaN                   NaN  2014     1    1  Thursday  \n",
       "1           NaN                   NaN  2014     1    1  Thursday  \n",
       "\n",
       "[2 rows x 28 columns]"
      ]
     },
     "execution_count": 102,
     "metadata": {},
     "output_type": "execute_result"
    }
   ],
   "source": [
    "# df.head(), df.tail(),df.info(),df.describe()\n",
    "df.head(2)"
   ]
  },
  {
   "cell_type": "markdown",
   "metadata": {},
   "source": [
    "## <a id='2'>2. Scrub Data</a>"
   ]
  },
  {
   "cell_type": "markdown",
   "metadata": {},
   "source": [
    "#### Changing the Dtypes for the datetime columns\n"
   ]
  },
  {
   "cell_type": "code",
   "execution_count": 98,
   "metadata": {},
   "outputs": [],
   "source": [
    "df['Date'] = pd.to_datetime(df['Date'])\n",
    "df['Time'] = pd.to_datetime(df['Time'], format ='%H:%M:%S').dt.time"
   ]
  },
  {
   "cell_type": "markdown",
   "metadata": {},
   "source": [
    "#### Feature Engineer\n",
    "Pandas doc: https://pandas.pydata.org/pandas-docs/stable/api.html#datetimelike-properties\n"
   ]
  },
  {
   "cell_type": "code",
   "execution_count": 100,
   "metadata": {},
   "outputs": [],
   "source": [
    "# Date Column\n",
    "df['Year'] = df.Date.dt.year # Extracts year\n",
    "df['Month'] = df.Date.dt.month # Extracts month\n",
    "df['Week'] = df.Date.dt.week # Extracts week\n",
    "df['Day'] = df.Date.dt.weekday_name # Extracts day"
   ]
  },
  {
   "cell_type": "code",
   "execution_count": 105,
   "metadata": {},
   "outputs": [
    {
     "data": {
      "text/html": [
       "<div>\n",
       "<style scoped>\n",
       "    .dataframe tbody tr th:only-of-type {\n",
       "        vertical-align: middle;\n",
       "    }\n",
       "\n",
       "    .dataframe tbody tr th {\n",
       "        vertical-align: top;\n",
       "    }\n",
       "\n",
       "    .dataframe thead th {\n",
       "        text-align: right;\n",
       "    }\n",
       "</style>\n",
       "<table border=\"1\" class=\"dataframe\">\n",
       "  <thead>\n",
       "    <tr style=\"text-align: right;\">\n",
       "      <th></th>\n",
       "      <th>Date</th>\n",
       "      <th>Time</th>\n",
       "      <th>Time Zone</th>\n",
       "      <th>Category</th>\n",
       "      <th>Item</th>\n",
       "      <th>Qty</th>\n",
       "      <th>Price Point Name</th>\n",
       "      <th>SKU</th>\n",
       "      <th>Modifiers Applied</th>\n",
       "      <th>Gross Sales</th>\n",
       "      <th>...</th>\n",
       "      <th>Event Type</th>\n",
       "      <th>Location</th>\n",
       "      <th>Dining Option</th>\n",
       "      <th>Customer ID</th>\n",
       "      <th>Customer Name</th>\n",
       "      <th>Customer Reference ID</th>\n",
       "      <th>Year</th>\n",
       "      <th>Month</th>\n",
       "      <th>Week</th>\n",
       "      <th>Day</th>\n",
       "    </tr>\n",
       "  </thead>\n",
       "  <tbody>\n",
       "    <tr>\n",
       "      <th>0</th>\n",
       "      <td>2014-01-02</td>\n",
       "      <td>07:34:21</td>\n",
       "      <td>Central Time (US &amp; Canada)</td>\n",
       "      <td>1 Hot Drinks</td>\n",
       "      <td>Brew Coffee</td>\n",
       "      <td>1</td>\n",
       "      <td>16 oz</td>\n",
       "      <td>NaN</td>\n",
       "      <td>Dark, To Go</td>\n",
       "      <td>2.39</td>\n",
       "      <td>...</td>\n",
       "      <td>Payment</td>\n",
       "      <td>Mazama Coffee Co</td>\n",
       "      <td>NaN</td>\n",
       "      <td>NaN</td>\n",
       "      <td>NaN</td>\n",
       "      <td>NaN</td>\n",
       "      <td>2014</td>\n",
       "      <td>1</td>\n",
       "      <td>1</td>\n",
       "      <td>Thursday</td>\n",
       "    </tr>\n",
       "    <tr>\n",
       "      <th>1</th>\n",
       "      <td>2014-01-02</td>\n",
       "      <td>07:49:27</td>\n",
       "      <td>Central Time (US &amp; Canada)</td>\n",
       "      <td>3 Bakery</td>\n",
       "      <td>Muffin Regular</td>\n",
       "      <td>1</td>\n",
       "      <td>Morning Glory</td>\n",
       "      <td>NaN</td>\n",
       "      <td>NaN</td>\n",
       "      <td>2.29</td>\n",
       "      <td>...</td>\n",
       "      <td>Payment</td>\n",
       "      <td>Mazama Coffee Co</td>\n",
       "      <td>NaN</td>\n",
       "      <td>NaN</td>\n",
       "      <td>NaN</td>\n",
       "      <td>NaN</td>\n",
       "      <td>2014</td>\n",
       "      <td>1</td>\n",
       "      <td>1</td>\n",
       "      <td>Thursday</td>\n",
       "    </tr>\n",
       "  </tbody>\n",
       "</table>\n",
       "<p>2 rows × 28 columns</p>\n",
       "</div>"
      ],
      "text/plain": [
       "        Date      Time                   Time Zone      Category  \\\n",
       "0 2014-01-02  07:34:21  Central Time (US & Canada)  1 Hot Drinks   \n",
       "1 2014-01-02  07:49:27  Central Time (US & Canada)      3 Bakery   \n",
       "\n",
       "             Item  Qty Price Point Name  SKU Modifiers Applied  Gross Sales  \\\n",
       "0     Brew Coffee    1            16 oz  NaN       Dark, To Go         2.39   \n",
       "1  Muffin Regular    1    Morning Glory  NaN               NaN         2.29   \n",
       "\n",
       "     ...     Event Type          Location  Dining Option Customer ID  \\\n",
       "0    ...        Payment  Mazama Coffee Co            NaN         NaN   \n",
       "1    ...        Payment  Mazama Coffee Co            NaN         NaN   \n",
       "\n",
       "  Customer Name Customer Reference ID  Year Month Week       Day  \n",
       "0           NaN                   NaN  2014     1    1  Thursday  \n",
       "1           NaN                   NaN  2014     1    1  Thursday  \n",
       "\n",
       "[2 rows x 28 columns]"
      ]
     },
     "execution_count": 105,
     "metadata": {},
     "output_type": "execute_result"
    }
   ],
   "source": [
    "df.head(2)"
   ]
  },
  {
   "cell_type": "code",
   "execution_count": 118,
   "metadata": {},
   "outputs": [],
   "source": [
    "# Reorder columns\n",
    "list(df.columns.values)\n",
    "df = df[['Date',\n",
    " 'Year',\n",
    " 'Month',\n",
    " 'Week',\n",
    " 'Day',\n",
    " 'Time',\n",
    " 'Time Zone',\n",
    " 'Category',\n",
    " 'Item',\n",
    " 'Qty',\n",
    " 'Price Point Name',\n",
    " 'SKU',\n",
    " 'Modifiers Applied',\n",
    " 'Gross Sales',\n",
    " 'Discounts',\n",
    " 'Net Sales',\n",
    " 'Tax',\n",
    " 'Transaction ID',\n",
    " 'Payment ID',\n",
    " 'Device Name',\n",
    " 'Notes',\n",
    " 'Details',\n",
    " 'Event Type',\n",
    " 'Location',\n",
    " 'Dining Option',\n",
    " 'Customer ID',\n",
    " 'Customer Name',\n",
    " 'Customer Reference ID']]"
   ]
  },
  {
   "cell_type": "code",
   "execution_count": 119,
   "metadata": {},
   "outputs": [
    {
     "data": {
      "text/html": [
       "<div>\n",
       "<style scoped>\n",
       "    .dataframe tbody tr th:only-of-type {\n",
       "        vertical-align: middle;\n",
       "    }\n",
       "\n",
       "    .dataframe tbody tr th {\n",
       "        vertical-align: top;\n",
       "    }\n",
       "\n",
       "    .dataframe thead th {\n",
       "        text-align: right;\n",
       "    }\n",
       "</style>\n",
       "<table border=\"1\" class=\"dataframe\">\n",
       "  <thead>\n",
       "    <tr style=\"text-align: right;\">\n",
       "      <th></th>\n",
       "      <th>Date</th>\n",
       "      <th>Year</th>\n",
       "      <th>Month</th>\n",
       "      <th>Week</th>\n",
       "      <th>Day</th>\n",
       "      <th>Time</th>\n",
       "      <th>Time Zone</th>\n",
       "      <th>Category</th>\n",
       "      <th>Item</th>\n",
       "      <th>Qty</th>\n",
       "      <th>...</th>\n",
       "      <th>Payment ID</th>\n",
       "      <th>Device Name</th>\n",
       "      <th>Notes</th>\n",
       "      <th>Details</th>\n",
       "      <th>Event Type</th>\n",
       "      <th>Location</th>\n",
       "      <th>Dining Option</th>\n",
       "      <th>Customer ID</th>\n",
       "      <th>Customer Name</th>\n",
       "      <th>Customer Reference ID</th>\n",
       "    </tr>\n",
       "  </thead>\n",
       "  <tbody>\n",
       "    <tr>\n",
       "      <th>0</th>\n",
       "      <td>2014-01-02</td>\n",
       "      <td>2014</td>\n",
       "      <td>1</td>\n",
       "      <td>1</td>\n",
       "      <td>Thursday</td>\n",
       "      <td>07:34:21</td>\n",
       "      <td>Central Time (US &amp; Canada)</td>\n",
       "      <td>1 Hot Drinks</td>\n",
       "      <td>Brew Coffee</td>\n",
       "      <td>1</td>\n",
       "      <td>...</td>\n",
       "      <td>DNYN5K3JNQXS3</td>\n",
       "      <td>Vicky Ipad</td>\n",
       "      <td>NaN</td>\n",
       "      <td>https://squareup.com/dashboard/sales/transacti...</td>\n",
       "      <td>Payment</td>\n",
       "      <td>Mazama Coffee Co</td>\n",
       "      <td>NaN</td>\n",
       "      <td>NaN</td>\n",
       "      <td>NaN</td>\n",
       "      <td>NaN</td>\n",
       "    </tr>\n",
       "    <tr>\n",
       "      <th>1</th>\n",
       "      <td>2014-01-02</td>\n",
       "      <td>2014</td>\n",
       "      <td>1</td>\n",
       "      <td>1</td>\n",
       "      <td>Thursday</td>\n",
       "      <td>07:49:27</td>\n",
       "      <td>Central Time (US &amp; Canada)</td>\n",
       "      <td>3 Bakery</td>\n",
       "      <td>Muffin Regular</td>\n",
       "      <td>1</td>\n",
       "      <td>...</td>\n",
       "      <td>2F35P9MRY4YYJ</td>\n",
       "      <td>Vicky Ipad</td>\n",
       "      <td>NaN</td>\n",
       "      <td>https://squareup.com/dashboard/sales/transacti...</td>\n",
       "      <td>Payment</td>\n",
       "      <td>Mazama Coffee Co</td>\n",
       "      <td>NaN</td>\n",
       "      <td>NaN</td>\n",
       "      <td>NaN</td>\n",
       "      <td>NaN</td>\n",
       "    </tr>\n",
       "  </tbody>\n",
       "</table>\n",
       "<p>2 rows × 28 columns</p>\n",
       "</div>"
      ],
      "text/plain": [
       "        Date  Year  Month  Week       Day      Time  \\\n",
       "0 2014-01-02  2014      1     1  Thursday  07:34:21   \n",
       "1 2014-01-02  2014      1     1  Thursday  07:49:27   \n",
       "\n",
       "                    Time Zone      Category            Item  Qty  \\\n",
       "0  Central Time (US & Canada)  1 Hot Drinks     Brew Coffee    1   \n",
       "1  Central Time (US & Canada)      3 Bakery  Muffin Regular    1   \n",
       "\n",
       "           ...              Payment ID  Device Name Notes  \\\n",
       "0          ...           DNYN5K3JNQXS3   Vicky Ipad   NaN   \n",
       "1          ...           2F35P9MRY4YYJ   Vicky Ipad   NaN   \n",
       "\n",
       "                                             Details  Event Type  \\\n",
       "0  https://squareup.com/dashboard/sales/transacti...     Payment   \n",
       "1  https://squareup.com/dashboard/sales/transacti...     Payment   \n",
       "\n",
       "           Location  Dining Option Customer ID Customer Name  \\\n",
       "0  Mazama Coffee Co            NaN         NaN           NaN   \n",
       "1  Mazama Coffee Co            NaN         NaN           NaN   \n",
       "\n",
       "  Customer Reference ID  \n",
       "0                   NaN  \n",
       "1                   NaN  \n",
       "\n",
       "[2 rows x 28 columns]"
      ]
     },
     "execution_count": 119,
     "metadata": {},
     "output_type": "execute_result"
    }
   ],
   "source": [
    "df.head(2)"
   ]
  },
  {
   "cell_type": "markdown",
   "metadata": {},
   "source": [
    "## <a id='3'>3. Explore Data</a>"
   ]
  },
  {
   "cell_type": "code",
   "execution_count": null,
   "metadata": {},
   "outputs": [],
   "source": []
  }
 ],
 "metadata": {
  "kernelspec": {
   "display_name": "Python [conda env:anaconda]",
   "language": "python",
   "name": "conda-env-anaconda-py"
  },
  "language_info": {
   "codemirror_mode": {
    "name": "ipython",
    "version": 3
   },
   "file_extension": ".py",
   "mimetype": "text/x-python",
   "name": "python",
   "nbconvert_exporter": "python",
   "pygments_lexer": "ipython3",
   "version": "3.6.5"
  }
 },
 "nbformat": 4,
 "nbformat_minor": 2
}
